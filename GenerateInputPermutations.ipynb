{
 "cells": [
  {
   "cell_type": "code",
   "id": "initial_id",
   "metadata": {
    "collapsed": true,
    "ExecuteTime": {
     "end_time": "2024-02-20T00:21:44.122788Z",
     "start_time": "2024-02-20T00:21:30.422274Z"
    }
   },
   "source": [
    "%load_ext autoreload\n",
    "%autoreload 2\n",
    "\n",
    "import math\n",
    "\n",
    "!pip install pandas==2.2.0\n",
    "import pandas as pd\n",
    "\n",
    "import helper.Counters as Counters\n",
    "import helper.Inputs as Inputs\n",
    "import helper.util as util\n",
    "import helper.Powersort as Powersort\n",
    "import helper.Timsort as Timsort\n",
    "\n",
    "import helper.Books as Books"
   ],
   "outputs": [
    {
     "name": "stdout",
     "output_type": "stream",
     "text": [
      "The autoreload extension is already loaded. To reload it, use:\n",
      "  %reload_ext autoreload\n",
      "Requirement already satisfied: pandas==2.2.0 in /home/shayan/Desktop/Sorting/.venv/lib/python3.11/site-packages (2.2.0)\r\n",
      "Requirement already satisfied: numpy<2,>=1.23.2 in /home/shayan/Desktop/Sorting/.venv/lib/python3.11/site-packages (from pandas==2.2.0) (1.26.4)\r\n",
      "Requirement already satisfied: python-dateutil>=2.8.2 in /home/shayan/Desktop/Sorting/.venv/lib/python3.11/site-packages (from pandas==2.2.0) (2.8.2)\r\n",
      "Requirement already satisfied: pytz>=2020.1 in /home/shayan/Desktop/Sorting/.venv/lib/python3.11/site-packages (from pandas==2.2.0) (2024.1)\r\n",
      "Requirement already satisfied: tzdata>=2022.7 in /home/shayan/Desktop/Sorting/.venv/lib/python3.11/site-packages (from pandas==2.2.0) (2024.1)\r\n",
      "Requirement already satisfied: six>=1.5 in /home/shayan/Desktop/Sorting/.venv/lib/python3.11/site-packages (from python-dateutil>=2.8.2->pandas==2.2.0) (1.16.0)\r\n",
      "\r\n",
      "\u001B[1m[\u001B[0m\u001B[34;49mnotice\u001B[0m\u001B[1;39;49m]\u001B[0m\u001B[39;49m A new release of pip is available: \u001B[0m\u001B[31;49m23.2.1\u001B[0m\u001B[39;49m -> \u001B[0m\u001B[32;49m24.0\u001B[0m\r\n",
      "\u001B[1m[\u001B[0m\u001B[34;49mnotice\u001B[0m\u001B[1;39;49m]\u001B[0m\u001B[39;49m To update, run: \u001B[0m\u001B[32;49mpip install --upgrade pip\u001B[0m\r\n"
     ]
    }
   ],
   "execution_count": 10
  },
  {
   "metadata": {},
   "cell_type": "markdown",
   "source": "## Helper Functions",
   "id": "2d30878b3fdfe1a2"
  },
  {
   "metadata": {
    "ExecuteTime": {
     "end_time": "2024-02-20T00:31:31.198132Z",
     "start_time": "2024-02-20T00:31:31.179404Z"
    }
   },
   "cell_type": "code",
   "source": [
    "def cost(lst, sorter):\n",
    "    wrapped = [Counters.ComparisonCounter(x) for x in lst]\n",
    "    Counters.reset_counters()\n",
    "    sorter.sort(wrapped)\n",
    "    assert Counters.ComparisonCounter.EQ_COMPARISONS == 0\n",
    "    \n",
    "    return {\n",
    "        'Algorithm': sorter.name(),\n",
    "        'Comparisons': Counters.ComparisonCounter.COMPARISONS\n",
    "    }"
   ],
   "id": "2aa1d2530dd75139",
   "outputs": [],
   "execution_count": 28
  },
  {
   "metadata": {
    "ExecuteTime": {
     "end_time": "2024-02-20T00:38:16.790429Z",
     "start_time": "2024-02-20T00:38:16.768517Z"
    }
   },
   "cell_type": "code",
   "source": [
    "def compare_sorters(lst, sorters):\n",
    "    sorters = sorted(sorters, key = lambda sorter: sorter.name())\n",
    "    \n",
    "    df = pd.DataFrame([cost(lst, sorter) for sorter in sorters])\n",
    "    percent_improvement = ((df['Comparisons'][1] - df['Comparisons'][0]) / df['Comparisons'][1]) * 100\n",
    "\n",
    "    \n",
    "    return df, percent_improvement"
   ],
   "id": "3742b1a6d3700004",
   "outputs": [],
   "execution_count": 62
  },
  {
   "metadata": {
    "ExecuteTime": {
     "end_time": "2024-02-20T00:38:17.561148Z",
     "start_time": "2024-02-20T00:38:17.013400Z"
    }
   },
   "cell_type": "code",
   "source": [
    "a = Inputs.random_permutation(10000)\n",
    "compare_sorters(a, [Powersort, Timsort])"
   ],
   "id": "46d3c7696a82c239",
   "outputs": [
    {
     "data": {
      "text/plain": [
       "(   Algorithm  Comparisons\n",
       " 0  powersort       119859\n",
       " 1  timsort         119918,\n",
       " 0.049200286862689506)"
      ]
     },
     "execution_count": 63,
     "metadata": {},
     "output_type": "execute_result"
    }
   ],
   "execution_count": 63
  },
  {
   "metadata": {
    "ExecuteTime": {
     "end_time": "2024-02-20T00:38:59.736193Z",
     "start_time": "2024-02-20T00:38:25.816495Z"
    }
   },
   "cell_type": "code",
   "source": [
    "bible = Books.list_of_words_bible()\n",
    "compare_sorters(bible, [Powersort, Timsort])"
   ],
   "id": "1cb674877b4ce361",
   "outputs": [
    {
     "data": {
      "text/plain": [
       "(   Algorithm  Comparisons\n",
       " 0  powersort     10001936\n",
       " 1  timsort       10004865,\n",
       " 0.02927575734405212)"
      ]
     },
     "execution_count": 64,
     "metadata": {},
     "output_type": "execute_result"
    }
   ],
   "execution_count": 64
  },
  {
   "metadata": {},
   "cell_type": "code",
   "outputs": [],
   "execution_count": null,
   "source": "",
   "id": "7353eac826e74a9f"
  }
 ],
 "metadata": {
  "kernelspec": {
   "display_name": "Python 3",
   "language": "python",
   "name": "python3"
  },
  "language_info": {
   "codemirror_mode": {
    "name": "ipython",
    "version": 2
   },
   "file_extension": ".py",
   "mimetype": "text/x-python",
   "name": "python",
   "nbconvert_exporter": "python",
   "pygments_lexer": "ipython2",
   "version": "2.7.6"
  }
 },
 "nbformat": 4,
 "nbformat_minor": 5
}
