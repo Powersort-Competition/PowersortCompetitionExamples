{
 "cells": [
  {
   "cell_type": "code",
   "execution_count": 1,
   "id": "initial_id",
   "metadata": {
    "ExecuteTime": {
     "end_time": "2024-07-19T13:55:34.796804779Z",
     "start_time": "2024-07-19T13:55:31.162359046Z"
    }
   },
   "outputs": [
    {
     "name": "stdout",
     "output_type": "stream",
     "text": [
      "Requirement already satisfied: pandas in /usr/lib/python3/dist-packages (0.25.3)\r\n"
     ]
    }
   ],
   "source": [
    "%load_ext autoreload\n",
    "%autoreload 2\n",
    "\n",
    "!pip install pandas\n",
    "\n",
    "import random\n",
    "import pandas as pd\n",
    "\n",
    "import helper.Counters as Counters\n",
    "import helper.Inputs as Inputs\n",
    "import helper.util as util\n",
    "import helper.Powersort as Powersort\n",
    "import helper.Timsort as Timsort\n",
    "\n",
    "import helper.Books as Books"
   ]
  },
  {
   "cell_type": "markdown",
   "id": "2d30878b3fdfe1a2",
   "metadata": {},
   "source": [
    "## Helper Functions"
   ]
  },
  {
   "cell_type": "code",
   "execution_count": 2,
   "id": "2aa1d2530dd75139",
   "metadata": {
    "ExecuteTime": {
     "end_time": "2024-07-19T13:55:34.850035995Z",
     "start_time": "2024-07-19T13:55:34.800431742Z"
    }
   },
   "outputs": [],
   "source": [
    "def cost(lst, sorter):\n",
    "    wrapped = [Counters.ComparisonCounter(x) for x in lst]\n",
    "    Counters.reset_counters()\n",
    "    sorter.sort(wrapped)\n",
    "    assert Counters.ComparisonCounter.EQ_COMPARISONS == 0\n",
    "    \n",
    "    return {\n",
    "        'Algorithm': sorter.name(),\n",
    "        'Comparisons': Counters.ComparisonCounter.COMPARISONS,\n",
    "        'Mergecost': Counters.MergeCosts.MERGECOST\n",
    "    }"
   ]
  },
  {
   "cell_type": "code",
   "execution_count": 3,
   "id": "3742b1a6d3700004",
   "metadata": {
    "ExecuteTime": {
     "end_time": "2024-07-19T13:55:34.894551147Z",
     "start_time": "2024-07-19T13:55:34.826007117Z"
    }
   },
   "outputs": [],
   "source": [
    "def compare_sorters(lst, sorters=(Powersort, Timsort)):\n",
    "    sorters = sorted(sorters, key = lambda sorter: sorter.name())\n",
    "    \n",
    "    df = pd.DataFrame([cost(lst, sorter) for sorter in sorters])\n",
    "    # Force columns to use type object to allow for mixed types (renders nicer)\n",
    "    column_types = {'Algorithm': 'str', 'Comparisons': 'object', 'Mergecost': 'object'}\n",
    "    df = df.astype(column_types)\n",
    "    df = df.append({\n",
    "        'Algorithm': 'improvement (%)', \n",
    "        'Comparisons': ((df['Comparisons'][1] - df['Comparisons'][0]) / df['Comparisons'][1]) * 100, \n",
    "        'Mergecost': ((df['Mergecost'][1] - df['Mergecost'][0]) / df['Mergecost'][1]) * 100,\n",
    "    }, ignore_index=True)\n",
    "\n",
    "    return df"
   ]
  },
  {
   "cell_type": "markdown",
   "id": "a63153f3-dcba-400e-9fe1-87927bc73e59",
   "metadata": {
    "ExecuteTime": {
     "end_time": "2024-02-20T00:38:17.561148Z",
     "start_time": "2024-02-20T00:38:17.013400Z"
    }
   },
   "source": [
    "## Random Permutation\n",
    "\n",
    "The simplest way of generating an input list, without much thought, for the competition is to generate a set of random permutation."
   ]
  },
  {
   "cell_type": "code",
   "execution_count": 4,
   "id": "ff32d8ad-6cc8-421f-abe6-1c55cc073794",
   "metadata": {
    "ExecuteTime": {
     "end_time": "2024-07-19T13:55:36.109115400Z",
     "start_time": "2024-07-19T13:55:34.861540637Z"
    }
   },
   "outputs": [
    {
     "data": {
      "text/plain": "         Algorithm Comparisons Mergecost\n0        powersort      119812     79760\n1        timsort        119910     79840\n2  improvement (%)    0.081728    0.1002",
      "text/html": "<div>\n<style scoped>\n    .dataframe tbody tr th:only-of-type {\n        vertical-align: middle;\n    }\n\n    .dataframe tbody tr th {\n        vertical-align: top;\n    }\n\n    .dataframe thead th {\n        text-align: right;\n    }\n</style>\n<table border=\"1\" class=\"dataframe\">\n  <thead>\n    <tr style=\"text-align: right;\">\n      <th></th>\n      <th>Algorithm</th>\n      <th>Comparisons</th>\n      <th>Mergecost</th>\n    </tr>\n  </thead>\n  <tbody>\n    <tr>\n      <th>0</th>\n      <td>powersort</td>\n      <td>119812</td>\n      <td>79760</td>\n    </tr>\n    <tr>\n      <th>1</th>\n      <td>timsort</td>\n      <td>119910</td>\n      <td>79840</td>\n    </tr>\n    <tr>\n      <th>2</th>\n      <td>improvement (%)</td>\n      <td>0.081728</td>\n      <td>0.1002</td>\n    </tr>\n  </tbody>\n</table>\n</div>"
     },
     "execution_count": 4,
     "metadata": {},
     "output_type": "execute_result"
    }
   ],
   "source": [
    "X = Inputs.random_permutation(10000)\n",
    "name = \"RandomPermutation\"\n",
    "\n",
    "compare_sorters(X)"
   ]
  },
  {
   "cell_type": "markdown",
   "source": [],
   "metadata": {
    "collapsed": false
   },
   "id": "2bde4794187c6157"
  },
  {
   "cell_type": "markdown",
   "id": "1af7f5bf-bc4c-46a3-b049-8239e93bdcaa",
   "metadata": {
    "ExecuteTime": {
     "end_time": "2024-02-20T00:38:59.736193Z",
     "start_time": "2024-02-20T00:38:25.816495Z"
    }
   },
   "source": [
    "## Bible.txt\n",
    "\n",
    "\n",
    "A more intuitive way is to base your input list on some real-world data. For this example, the list consists of words from the bible. Note that this is valid as alphabetical letters have inherent lexicographic ordering."
   ]
  },
  {
   "cell_type": "code",
   "execution_count": 5,
   "id": "0767a7da-76ff-4900-bc1f-75ad6d58d815",
   "metadata": {
    "ExecuteTime": {
     "end_time": "2024-07-19T13:56:20.548248477Z",
     "start_time": "2024-07-19T13:55:36.111110407Z"
    }
   },
   "outputs": [
    {
     "data": {
      "text/plain": "         Algorithm Comparisons  Mergecost\n0        powersort    10001936   10721664\n1        timsort      10004865   10722878\n2  improvement (%)   0.0292758  0.0113216",
      "text/html": "<div>\n<style scoped>\n    .dataframe tbody tr th:only-of-type {\n        vertical-align: middle;\n    }\n\n    .dataframe tbody tr th {\n        vertical-align: top;\n    }\n\n    .dataframe thead th {\n        text-align: right;\n    }\n</style>\n<table border=\"1\" class=\"dataframe\">\n  <thead>\n    <tr style=\"text-align: right;\">\n      <th></th>\n      <th>Algorithm</th>\n      <th>Comparisons</th>\n      <th>Mergecost</th>\n    </tr>\n  </thead>\n  <tbody>\n    <tr>\n      <th>0</th>\n      <td>powersort</td>\n      <td>10001936</td>\n      <td>10721664</td>\n    </tr>\n    <tr>\n      <th>1</th>\n      <td>timsort</td>\n      <td>10004865</td>\n      <td>10722878</td>\n    </tr>\n    <tr>\n      <th>2</th>\n      <td>improvement (%)</td>\n      <td>0.0292758</td>\n      <td>0.0113216</td>\n    </tr>\n  </tbody>\n</table>\n</div>"
     },
     "execution_count": 5,
     "metadata": {},
     "output_type": "execute_result"
    }
   ],
   "source": [
    "X = Books.list_of_words_bible()\n",
    "name = \"Bible\"\n",
    "\n",
    "compare_sorters(X)"
   ]
  },
  {
   "cell_type": "markdown",
   "id": "175922ee4e4455fd",
   "metadata": {},
   "source": [
    "## Mixed long and short runs"
   ]
  },
  {
   "cell_type": "code",
   "execution_count": 6,
   "id": "fa3fcb5892dc46e8",
   "metadata": {
    "ExecuteTime": {
     "end_time": "2024-07-19T13:56:20.586216958Z",
     "start_time": "2024-07-19T13:56:20.553280002Z"
    }
   },
   "outputs": [],
   "source": [
    "def input_generator(n, rng):\n",
    "    p = 0.8\n",
    "    short = (1, 100)\n",
    "    long = (1000, 10000)\n",
    "    num_runs = max(2, int(n / (p * 0.5 * sum(short) + (1-p) * 0.5 * sum(long))))\n",
    "    run_lens = Inputs.tims_random_run_lengths(num_runs, p, short, long, rng)\n",
    "    nn = sum(run_lens)\n",
    "    lst = [0] * nn\n",
    "    \n",
    "    Inputs.fill_with_asc_runs_same(lst, run_lens, 1, use_n_as_last_entry=False)\n",
    "    lst = util.rank_reduce_ties_desc(lst)\n",
    "    \n",
    "    return lst"
   ]
  },
  {
   "cell_type": "code",
   "execution_count": 7,
   "id": "e4b355fe35f9edea",
   "metadata": {
    "ExecuteTime": {
     "end_time": "2024-07-19T13:56:27.195677934Z",
     "start_time": "2024-07-19T13:56:20.572463985Z"
    }
   },
   "outputs": [
    {
     "data": {
      "text/plain": "         Algorithm Comparisons Mergecost\n0        powersort     1045433   1152985\n1        timsort       1086960   1254111\n2  improvement (%)     3.82047   8.06356",
      "text/html": "<div>\n<style scoped>\n    .dataframe tbody tr th:only-of-type {\n        vertical-align: middle;\n    }\n\n    .dataframe tbody tr th {\n        vertical-align: top;\n    }\n\n    .dataframe thead th {\n        text-align: right;\n    }\n</style>\n<table border=\"1\" class=\"dataframe\">\n  <thead>\n    <tr style=\"text-align: right;\">\n      <th></th>\n      <th>Algorithm</th>\n      <th>Comparisons</th>\n      <th>Mergecost</th>\n    </tr>\n  </thead>\n  <tbody>\n    <tr>\n      <th>0</th>\n      <td>powersort</td>\n      <td>1045433</td>\n      <td>1152985</td>\n    </tr>\n    <tr>\n      <th>1</th>\n      <td>timsort</td>\n      <td>1086960</td>\n      <td>1254111</td>\n    </tr>\n    <tr>\n      <th>2</th>\n      <td>improvement (%)</td>\n      <td>3.82047</td>\n      <td>8.06356</td>\n    </tr>\n  </tbody>\n</table>\n</div>"
     },
     "execution_count": 7,
     "metadata": {},
     "output_type": "execute_result"
    }
   ],
   "source": [
    "X = input_generator(200000, random.Random(437895634))\n",
    "name = \"MixedLongShort\"\n",
    "\n",
    "compare_sorters(X)"
   ]
  },
  {
   "cell_type": "markdown",
   "id": "87965db0cb94aa8d",
   "metadata": {},
   "source": [
    "## Random unary strings"
   ]
  },
  {
   "cell_type": "code",
   "execution_count": 8,
   "id": "6f5cef863eb0dda",
   "metadata": {
    "ExecuteTime": {
     "end_time": "2024-07-19T13:56:27.216481733Z",
     "start_time": "2024-07-19T13:56:27.198029969Z"
    }
   },
   "outputs": [],
   "source": [
    "def input_generator(n, rng):\n",
    "    u = int(n ** 0.5)\n",
    "    \n",
    "    return Inputs.random_uary_array(u, n, rng)"
   ]
  },
  {
   "cell_type": "code",
   "execution_count": 9,
   "id": "8d919ef358b0d9f1",
   "metadata": {
    "ExecuteTime": {
     "end_time": "2024-07-19T13:56:33.271004402Z",
     "start_time": "2024-07-19T13:56:27.213594126Z"
    }
   },
   "outputs": [
    {
     "data": {
      "text/plain": "         Algorithm Comparisons  Mergecost\n0        powersort     1209957    1099657\n1        timsort       1210361    1099880\n2  improvement (%)   0.0333785  0.0202749",
      "text/html": "<div>\n<style scoped>\n    .dataframe tbody tr th:only-of-type {\n        vertical-align: middle;\n    }\n\n    .dataframe tbody tr th {\n        vertical-align: top;\n    }\n\n    .dataframe thead th {\n        text-align: right;\n    }\n</style>\n<table border=\"1\" class=\"dataframe\">\n  <thead>\n    <tr style=\"text-align: right;\">\n      <th></th>\n      <th>Algorithm</th>\n      <th>Comparisons</th>\n      <th>Mergecost</th>\n    </tr>\n  </thead>\n  <tbody>\n    <tr>\n      <th>0</th>\n      <td>powersort</td>\n      <td>1209957</td>\n      <td>1099657</td>\n    </tr>\n    <tr>\n      <th>1</th>\n      <td>timsort</td>\n      <td>1210361</td>\n      <td>1099880</td>\n    </tr>\n    <tr>\n      <th>2</th>\n      <td>improvement (%)</td>\n      <td>0.0333785</td>\n      <td>0.0202749</td>\n    </tr>\n  </tbody>\n</table>\n</div>"
     },
     "execution_count": 9,
     "metadata": {},
     "output_type": "execute_result"
    }
   ],
   "source": [
    "X = input_generator(100000, random.Random(34253563))\n",
    "name = \"RandomUary\"\n",
    "\n",
    "compare_sorters(X)"
   ]
  },
  {
   "cell_type": "markdown",
   "source": [],
   "metadata": {
    "collapsed": false
   },
   "id": "72e0e12d06bc9ba7"
  },
  {
   "cell_type": "markdown",
   "id": "dc4c02dffadcc016",
   "metadata": {},
   "source": [
    "## Extra (Helper) Function: save most recently generated list to filesystem"
   ]
  },
  {
   "cell_type": "code",
   "execution_count": 10,
   "id": "431543fe724e5cf5",
   "metadata": {
    "ExecuteTime": {
     "end_time": "2024-07-19T13:56:33.314941090Z",
     "start_time": "2024-07-19T13:56:33.273825426Z"
    }
   },
   "outputs": [
    {
     "name": "stdout",
     "output_type": "stream",
     "text": [
      "Saving array as RandomUary.txt\n"
     ]
    }
   ],
   "source": [
    "print(\"Saving array as\", name + '.txt')\n",
    "\n",
    "with open(name + '.txt', \"w\") as f:\n",
    "    f.write(str(X))\n",
    "    f.close()"
   ]
  },
  {
   "cell_type": "code",
   "outputs": [],
   "source": [],
   "metadata": {
    "collapsed": false,
    "ExecuteTime": {
     "end_time": "2024-07-19T13:56:33.331934587Z",
     "start_time": "2024-07-19T13:56:33.297139756Z"
    }
   },
   "id": "fd98d3e6ed0bc401",
   "execution_count": 10
  }
 ],
 "metadata": {
  "kernelspec": {
   "display_name": "Python 3 (ipykernel)",
   "language": "python",
   "name": "python3"
  },
  "language_info": {
   "codemirror_mode": {
    "name": "ipython",
    "version": 3
   },
   "file_extension": ".py",
   "mimetype": "text/x-python",
   "name": "python",
   "nbconvert_exporter": "python",
   "pygments_lexer": "ipython3",
   "version": "3.8.10"
  }
 },
 "nbformat": 4,
 "nbformat_minor": 5
}
