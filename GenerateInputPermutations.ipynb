{
 "cells": [
  {
   "cell_type": "code",
   "execution_count": null,
   "id": "initial_id",
   "metadata": {
    "ExecuteTime": {
     "end_time": "2024-06-30T19:19:24.404496Z",
     "start_time": "2024-06-30T19:19:24.393919Z"
    }
   },
   "outputs": [],
   "source": [
    "%load_ext autoreload\n",
    "%autoreload 2\n",
    "\n",
    "!pip install pandas\n",
    "\n",
    "import random\n",
    "import pandas as pd\n",
    "\n",
    "import helper.Counters as Counters\n",
    "import helper.Inputs as Inputs\n",
    "import helper.util as util\n",
    "import helper.Powersort as Powersort\n",
    "import helper.Timsort as Timsort\n",
    "\n",
    "import helper.Books as Books"
   ]
  },
  {
   "cell_type": "markdown",
   "id": "2d30878b3fdfe1a2",
   "metadata": {},
   "source": [
    "## Helper Functions"
   ]
  },
  {
   "cell_type": "code",
   "execution_count": null,
   "id": "2aa1d2530dd75139",
   "metadata": {
    "ExecuteTime": {
     "end_time": "2024-06-30T19:09:26.445236Z",
     "start_time": "2024-06-30T19:09:26.438926Z"
    }
   },
   "outputs": [],
   "source": [
    "def cost(lst, sorter):\n",
    "    wrapped = [Counters.ComparisonCounter(x) for x in lst]\n",
    "    Counters.reset_counters()\n",
    "    sorter.sort(wrapped)\n",
    "    assert Counters.ComparisonCounter.EQ_COMPARISONS == 0\n",
    "    \n",
    "    return {\n",
    "        'Algorithm': sorter.name(),\n",
    "        'Comparisons': Counters.ComparisonCounter.COMPARISONS\n",
    "    }"
   ]
  },
  {
   "cell_type": "code",
   "execution_count": null,
   "id": "3742b1a6d3700004",
   "metadata": {
    "ExecuteTime": {
     "end_time": "2024-06-30T19:09:26.452637Z",
     "start_time": "2024-06-30T19:09:26.446002Z"
    }
   },
   "outputs": [],
   "source": [
    "def compare_sorters(lst, sorters):\n",
    "    sorters = sorted(sorters, key = lambda sorter: sorter.name())\n",
    "    \n",
    "    df = pd.DataFrame([cost(lst, sorter) for sorter in sorters])\n",
    "\n",
    "    percent_improvement = ((df['Comparisons'][1] - df['Comparisons'][0]) / df['Comparisons'][1]) * 100\n",
    "\n",
    "    \n",
    "    return df, percent_improvement"
   ]
  },
  {
   "cell_type": "markdown",
   "id": "a63153f3-dcba-400e-9fe1-87927bc73e59",
   "metadata": {
    "ExecuteTime": {
     "end_time": "2024-02-20T00:38:17.561148Z",
     "start_time": "2024-02-20T00:38:17.013400Z"
    }
   },
   "source": [
    "## Random Permutation\n",
    "\n",
    "The simplest way of generating an input list, without much thought, for the competition is to generate a set of random permutation."
   ]
  },
  {
   "cell_type": "code",
   "execution_count": null,
   "id": "ff32d8ad-6cc8-421f-abe6-1c55cc073794",
   "metadata": {
    "ExecuteTime": {
     "end_time": "2024-06-30T19:20:59.859952Z",
     "start_time": "2024-06-30T19:20:59.652254Z"
    }
   },
   "outputs": [],
   "source": [
    "X = Inputs.random_permutation(10000)\n",
    "name = \"RandomPermutation\"\n",
    "\n",
    "compare_sorters(X, [Powersort, Timsort])"
   ]
  },
  {
   "cell_type": "markdown",
   "id": "1af7f5bf-bc4c-46a3-b049-8239e93bdcaa",
   "metadata": {
    "ExecuteTime": {
     "end_time": "2024-02-20T00:38:59.736193Z",
     "start_time": "2024-02-20T00:38:25.816495Z"
    }
   },
   "source": [
    "## Bible.txt\n",
    "\n",
    "\n",
    "A more intuitive way is to base your input list on some real-world data. For this example, the list consists of words from the bible. Note that this is valid as alphabetical letters have inherent lexicographic ordering."
   ]
  },
  {
   "cell_type": "code",
   "execution_count": null,
   "id": "0767a7da-76ff-4900-bc1f-75ad6d58d815",
   "metadata": {
    "ExecuteTime": {
     "end_time": "2024-06-30T19:09:57.437789Z",
     "start_time": "2024-06-30T19:09:26.627691Z"
    }
   },
   "outputs": [],
   "source": [
    "X = Books.list_of_words_bible()\n",
    "name = \"Bible\"\n",
    "\n",
    "compare_sorters(X, [Powersort, Timsort])"
   ]
  },
  {
   "cell_type": "markdown",
   "id": "175922ee4e4455fd",
   "metadata": {},
   "source": [
    "## Mixed long and short runs"
   ]
  },
  {
   "cell_type": "code",
   "execution_count": null,
   "id": "fa3fcb5892dc46e8",
   "metadata": {
    "ExecuteTime": {
     "end_time": "2024-06-30T19:09:57.445678Z",
     "start_time": "2024-06-30T19:09:57.438622Z"
    }
   },
   "outputs": [],
   "source": [
    "def input_generator(n, rng):\n",
    "    p = 0.8\n",
    "    short = (1, 100)\n",
    "    long = (1000, 10000)\n",
    "    num_runs = max(2, int(n / (p * 0.5 * sum(short) + (1-p) * 0.5 * sum(long))))\n",
    "    run_lens = Inputs.tims_random_run_lengths(num_runs, p, short, long, rng)\n",
    "    nn = sum(run_lens)\n",
    "    lst = [0] * nn\n",
    "    \n",
    "    Inputs.fill_with_asc_runs_same(lst, run_lens, 1, use_n_as_last_entry=False)\n",
    "    lst = util.rank_reduce_ties_desc(lst)\n",
    "    \n",
    "    return lst"
   ]
  },
  {
   "cell_type": "code",
   "execution_count": null,
   "id": "e4b355fe35f9edea",
   "metadata": {
    "ExecuteTime": {
     "end_time": "2024-06-30T19:09:58.871868Z",
     "start_time": "2024-06-30T19:09:57.446484Z"
    }
   },
   "outputs": [],
   "source": [
    "X = input_generator(100000, random.Random(123))\n",
    "name = \"MixedLongShort\"\n",
    "\n",
    "compare_sorters(X, [Powersort, Timsort])"
   ]
  },
  {
   "cell_type": "markdown",
   "id": "87965db0cb94aa8d",
   "metadata": {},
   "source": [
    "## Random unary strings"
   ]
  },
  {
   "cell_type": "code",
   "execution_count": null,
   "id": "6f5cef863eb0dda",
   "metadata": {
    "ExecuteTime": {
     "end_time": "2024-06-30T19:25:34.891114Z",
     "start_time": "2024-06-30T19:25:34.880728Z"
    }
   },
   "outputs": [],
   "source": [
    "def input_generator(n, rng):\n",
    "    u = int(n ** 0.5)\n",
    "    \n",
    "    return Inputs.random_uary_array(u, n, rng)"
   ]
  },
  {
   "cell_type": "code",
   "execution_count": null,
   "id": "8d919ef358b0d9f1",
   "metadata": {
    "ExecuteTime": {
     "end_time": "2024-06-30T19:27:32.474579Z",
     "start_time": "2024-06-30T19:27:04.331839Z"
    }
   },
   "outputs": [],
   "source": [
    "X = input_generator(1000000, random.Random())\n",
    "name = \"RandomUnary\"\n",
    "\n",
    "compare_sorters(X, [Powersort, Timsort])"
   ]
  },
  {
   "cell_type": "markdown",
   "id": "dc4c02dffadcc016",
   "metadata": {},
   "source": [
    "## Extra (Helper) Function: save most recently generated list to filesystem"
   ]
  },
  {
   "cell_type": "code",
   "execution_count": null,
   "id": "431543fe724e5cf5",
   "metadata": {
    "ExecuteTime": {
     "end_time": "2024-06-30T19:27:32.509716Z",
     "start_time": "2024-06-30T19:27:32.475467Z"
    }
   },
   "outputs": [],
   "source": [
    "print(\"Saving array as\", name)\n",
    "\n",
    "with open(name, \"w\") as f:\n",
    "    f.write(str(X))\n",
    "    f.close()"
   ]
  },
  {
   "cell_type": "code",
   "execution_count": null,
   "id": "777b6f7412d10c0a",
   "metadata": {},
   "outputs": [],
   "source": []
  }
 ],
 "metadata": {
  "kernelspec": {
   "display_name": "Base",
   "language": "python",
   "name": "base"
  },
  "language_info": {
   "codemirror_mode": {
    "name": "ipython",
    "version": 3
   },
   "file_extension": ".py",
   "mimetype": "text/x-python",
   "name": "python",
   "nbconvert_exporter": "python",
   "pygments_lexer": "ipython3",
   "version": "3.9.18"
  }
 },
 "nbformat": 4,
 "nbformat_minor": 5
}
